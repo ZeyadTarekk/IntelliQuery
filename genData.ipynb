{
 "cells": [
  {
   "cell_type": "code",
   "execution_count": null,
   "metadata": {},
   "outputs": [],
   "source": [
    "from worst_case_implementation import VecDBWorst\n",
    "import numpy as np\n",
    "\n",
    "# Function to generate random embeddings\n",
    "def generate_embeddings(num_records, embedding_dim):\n",
    "    return [np.random.rand(embedding_dim).tolist() for _ in range(num_records)]\n",
    "\n",
    "# Create an instance of VecDB\n",
    "db = VecDBWorst()\n",
    "\n",
    "# Define parameters\n",
    "total_records = 20000000  # 20 million records\n",
    "chunk_size = 10000  # Insert records in chunks of 10,000\n",
    "\n",
    "# Insert records in chunks\n",
    "for i in range(0, total_records, chunk_size):\n",
    "    chunk_records = []\n",
    "    for j in range(i + 1, i + chunk_size + 1):\n",
    "        if j > total_records:\n",
    "            break\n",
    "        record = {\"id\": j, \"embed\": generate_embeddings(1, 70)[0]}\n",
    "        #  make this size of record to be fixed 1500 bytes\n",
    "        # size_of_dummy_needed = 1500 - len(record[\"embed\"])\n",
    "        \n",
    "        chunk_records.append(record)\n",
    "\n",
    "    db.insert_records(chunk_records)\n",
    "    print(f\"Inserted {len(chunk_records)} records. Total records inserted: {j}\")\n",
    "\n",
    "print(\"Insertion complete.\")\n"
   ]
  },
  {
   "cell_type": "code",
   "execution_count": 10,
   "metadata": {},
   "outputs": [
    {
     "name": "stdout",
     "output_type": "stream",
     "text": [
      "20000000\n"
     ]
    }
   ],
   "source": [
    "import numpy as np\n",
    "#  generate arr tuple start from 0 to 20_000_000\n",
    "arr = np.arange(0, 20000000, 1)\n",
    "#  print size of arr"
   ]
  },
  {
   "cell_type": "code",
   "execution_count": 18,
   "metadata": {},
   "outputs": [
    {
     "name": "stdout",
     "output_type": "stream",
     "text": [
      "1352\n",
      "1,0.6606054344785669,0.44804264919028125,0.22881102975586143,0.05333096241749047,0.5084951022842068,0.24025468500905356,0.9004077931618367,0.5564744960563222,0.6457622553961205,0.4071379003772593,0.351361920884804,0.5246836622014442,0.5630821296710911,0.13841085114014862,0.912664767315102,0.5534151567197382,0.10338708210292058,0.3645633090119468,0.6404595199220359,0.5813346723340996,0.42199801042598284,0.10550608934237249,0.5526635969910976,0.43935910359837194,0.6732200053671904,0.7076701077422254,0.19089540924022919,0.9152535222406287,0.8863368914838918,0.9655744116760181,0.5840517776203855,0.7949553581999904,0.8518481739348143,0.6931905817377731,0.26893208995375584,0.5426920969546063,0.5658971300296081,0.5877407129287981,0.3977236524806921,0.6332123020053829,0.33207439505341196,0.8456863999150352,0.6296123820724633,0.22941054064612076,0.9236083251994747,0.08041007481992846,0.2645688410916386,0.5302248461883718,0.021245950392764446,0.40642113522284695,0.4509976122110796,0.4079103272609528,0.38330164542954837,0.725330355669261,0.6691236347883495,0.4661909585879509,0.028051436908156258,0.4061235868070294,0.2570159154328524,0.968525791124133,0.7227258279612139,0.38467004795327875,0.8212118142071577,0.03033475072823799,0.10586801880942065,0.5493969694426779,0.1746771312465809,0.011581852973229556,0.802827737044827,0.6963517422863184\n",
      "\n",
      "1342\n",
      "2,0.7777482693320314,0.3041059253446723,0.7849297227468245,0.8119526011045088,0.4590568204169747,0.16310490352628415,0.05947505602100556,0.5139295064546109,0.384642802766647,0.5149811901618657,0.8764004213694623,0.9269813194261639,0.5844374516674591,0.21364371415028693,0.9257767563109711,0.848165690015116,0.8103952445259176,0.2960872564865453,0.9957015404874499,0.10438002120171475,0.11115247567408293,0.6073956757718989,0.037121416521344264,0.20301238851691839,0.4266388405416971,0.45795858205367024,0.3073001405683219,0.5938384951428581,0.07312542565350721,0.775976461150876,0.9322401825205642,0.8889367500930058,0.5655133545499716,0.9940594594361349,0.3989475122499484,0.046811981843524975,0.3384456465509561,0.9544278536529925,0.7081063531016842,0.8703561105189421,0.25646270213634614,0.8751180300809858,0.5786544608232048,0.92149656356517,0.8154661786100234,0.4111803517139163,0.39867177026306244,0.8031402167881558,0.963585028000135,0.14436896796099452,0.6757438126186164,0.3117215601159602,0.48771651097657176,0.6874290239697484,0.174047611904393,0.3698535287309648,0.037335762898989766,0.3204398497161648,0.6994794491695989,0.306032550925157,0.4183888204489862,0.6394680776560338,0.11475189915035477,0.6196708172326141,0.351762048427387,0.6246525663585474,0.55281277010323,0.034803411951095486,0.5189817109692403,0.5581671812691505\n",
      "\n"
     ]
    }
   ],
   "source": [
    "with open('saved_db.csv', 'r') as file:\n",
    "    # Move to the 10th byte from the beginning of the file\n",
    "    file.seek(0)\n",
    "    \n",
    "    # Read and print the content from the current position\n",
    "    # 1 MB => 1,000,000 bytes\n",
    "    # 1,000,000 /1350 => 740\n",
    "    # 20_000_000 / 740 => 27_027 blocks\n",
    "    # content = file.read(1_000_000)\n",
    "    content = file.readline()\n",
    "    #  print the size of the line\n",
    "    print(len(content))\n",
    "    print(content)\n",
    "    file.seek(len(content)+1)\n",
    "    content = file.readline()\n",
    "    print(len(content))\n",
    "    print(content)\n"
   ]
  },
  {
   "cell_type": "code",
   "execution_count": null,
   "metadata": {},
   "outputs": [],
   "source": []
  },
  {
   "cell_type": "code",
   "execution_count": null,
   "metadata": {},
   "outputs": [],
   "source": []
  },
  {
   "cell_type": "code",
   "execution_count": null,
   "metadata": {},
   "outputs": [],
   "source": []
  },
  {
   "cell_type": "code",
   "execution_count": null,
   "metadata": {},
   "outputs": [],
   "source": []
  }
 ],
 "metadata": {
  "kernelspec": {
   "display_name": "Python 3",
   "language": "python",
   "name": "python3"
  },
  "language_info": {
   "codemirror_mode": {
    "name": "ipython",
    "version": 3
   },
   "file_extension": ".py",
   "mimetype": "text/x-python",
   "name": "python",
   "nbconvert_exporter": "python",
   "pygments_lexer": "ipython3",
   "version": "3.10.2"
  }
 },
 "nbformat": 4,
 "nbformat_minor": 2
}
