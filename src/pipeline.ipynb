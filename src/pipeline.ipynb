{
 "cells": [
  {
   "cell_type": "code",
   "execution_count": 40,
   "metadata": {},
   "outputs": [],
   "source": [
    "# from Modules.LSH import semantic_query_lsh\n",
    "# from Modules.LSH import LSH\n",
    "\n",
    "\n",
    "# import numpy as np\n",
    "# import os"
   ]
  },
  {
   "cell_type": "code",
   "execution_count": 41,
   "metadata": {},
   "outputs": [],
   "source": [
    "# file_path = \"./random_data.txt\"\n",
    "# read_data = np.loadtxt(file_path)\n",
    "# plane_norms = LSH(read_data, 8)\n",
    "# query=[read_data[0]]\n",
    "# folder_name = \"bucket_files\"\n",
    "# result = semantic_query_lsh(query, plane_norms,folder_name)"
   ]
  },
  {
   "cell_type": "code",
   "execution_count": 42,
   "metadata": {},
   "outputs": [
    {
     "name": "stdout",
     "output_type": "stream",
     "text": [
      "The autoreload extension is already loaded. To reload it, use:\n",
      "  %reload_ext autoreload\n"
     ]
    }
   ],
   "source": [
    "%load_ext autoreload\n",
    "%autoreload 2\n",
    "\n",
    "\n",
    "from utils import *\n",
    "from Modules.LSH import*\n",
    "\n",
    "\n",
    "datafile_path=\"../DataBase/random_data_1000.txt\""
   ]
  },
  {
   "cell_type": "code",
   "execution_count": 43,
   "metadata": {},
   "outputs": [],
   "source": [
    "\n",
    "# Test LSH_index\n",
    "# Read Data From File\n",
    "data_path = datafile_path\n",
    "read_data = np.loadtxt(data_path)\n",
    "\n",
    "\n",
    "# Layer(1)\n",
    "# Convert to Dictionary TODO Take From Zeyad\n",
    "level_1_in=array_to_dictionary(read_data)\n",
    "\n",
    "Level_1_path = \"../DataBase/Level1\"\n",
    "\n",
    "if os.path.exists(Level_1_path):\n",
    "    shutil.rmtree(Level_1_path, ignore_errors=True, onerror=lambda func, path, exc: None)\n",
    "os.makedirs(Level_1_path)\n",
    "\n",
    "\n",
    "level_1_planes=LSH_index(data=level_1_in, nbits=8,index_path=Level_1_path)"
   ]
  },
  {
   "cell_type": "code",
   "execution_count": 44,
   "metadata": {},
   "outputs": [],
   "source": [
    "# Layer(2)\n",
    "# OnEach Bucket Apply LSH\n",
    "\n",
    "# List all files in the directory\n",
    "files = os.listdir(Level_1_path)\n",
    "\n",
    "Level_2_path = \"../DataBase/Level2\"\n",
    "if os.path.exists(Level_2_path):\n",
    "    shutil.rmtree(Level_2_path, ignore_errors=True, onerror=lambda func, path, exc: None)\n",
    "os.makedirs(Level_2_path)\n",
    "\n",
    "level_2_planes={}\n",
    "# Loop over the files\n",
    "for file_name in files:\n",
    "    file_path = os.path.join(Level_1_path, file_name)\n",
    "    if os.path.isfile(file_path):\n",
    "        # TODO Zeyad\n",
    "        # Read Data\n",
    "        read_data_2 = np.array(np.loadtxt(file_path,dtype=int)).reshape((-1,1))\n",
    "        # no_of_elements=1 if not read_data.shape else read_data.shape[0]\n",
    "        # # break\n",
    "        vectors=np.array([[]])\n",
    "    \n",
    "\n",
    "        for id in read_data_2:\n",
    "            vector=get_vector_from_id(datafile_path,id)\n",
    "            # If vectors is still an empty array, initialize it with the first vector\n",
    "            if vectors.size == 0:\n",
    "                vectors = vector.reshape(1, -1)\n",
    "            else:\n",
    "                vectors = np.insert(vectors, len(vectors), [vector], axis=0)\n",
    "        \n",
    "        level_2_in=array_to_dictionary(values=vectors,keys=np.hstack(read_data_2))\n",
    "\n",
    "        # # Apply LSH on this Bucket\n",
    "        level_2_planes[file_name[:-4]]=LSH_index(data=level_2_in, nbits=8,index_path='../DataBase/Level2/'+file_name[:-4])\n",
    "\n"
   ]
  },
  {
   "cell_type": "code",
   "execution_count": 46,
   "metadata": {},
   "outputs": [
    {
     "name": "stdout",
     "output_type": "stream",
     "text": [
      "[ 18 248]\n",
      "01110101\n",
      "18\n",
      "11000001\n"
     ]
    }
   ],
   "source": [
    "# Query\n",
    "query=read_data[18]\n",
    "# print(query)\n",
    "# Layer (1)\n",
    "bucket = semantic_query_lsh(query=query,plane_norms=level_1_planes,index_path=\"../DataBase/Level1\")\n",
    "print(bucket)\n",
    "\n",
    "# Layer(2)\n",
    "bucket = semantic_query_lsh(query=query,plane_norms=level_2_planes[bucket],index_path=\"../DataBase/Level2/\"+bucket)\n",
    "print(bucket)\n"
   ]
  },
  {
   "cell_type": "code",
   "execution_count": 47,
   "metadata": {},
   "outputs": [
    {
     "name": "stdout",
     "output_type": "stream",
     "text": [
      "[304 422 766 921]\n",
      "00000100\n",
      "304\n",
      "10100110\n"
     ]
    }
   ],
   "source": [
    "# Query\n",
    "query=read_data[304]\n",
    "# print(query)\n",
    "# Layer (1)\n",
    "bucket = semantic_query_lsh(query=query,plane_norms=level_1_planes,index_path=\"../DataBase/Level1\")\n",
    "print(bucket)\n",
    "\n",
    "# Layer(2)\n",
    "bucket = semantic_query_lsh(query=query,plane_norms=level_2_planes[bucket],index_path=\"../DataBase/Level2/\"+bucket)\n",
    "print(bucket)"
   ]
  }
 ],
 "metadata": {
  "kernelspec": {
   "display_name": "Python 3",
   "language": "python",
   "name": "python3"
  },
  "language_info": {
   "codemirror_mode": {
    "name": "ipython",
    "version": 3
   },
   "file_extension": ".py",
   "mimetype": "text/x-python",
   "name": "python",
   "nbconvert_exporter": "python",
   "pygments_lexer": "ipython3",
   "version": "3.10.9"
  }
 },
 "nbformat": 4,
 "nbformat_minor": 2
}
