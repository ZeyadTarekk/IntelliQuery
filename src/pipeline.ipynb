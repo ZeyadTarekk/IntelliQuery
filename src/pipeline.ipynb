{
 "cells": [
  {
   "cell_type": "code",
   "execution_count": 42,
   "metadata": {},
   "outputs": [],
   "source": [
    "# from Modules.LSH import semantic_query_lsh\n",
    "# from Modules.LSH import LSH\n",
    "\n",
    "\n",
    "# import numpy as np\n",
    "# import os"
   ]
  },
  {
   "cell_type": "code",
   "execution_count": 43,
   "metadata": {},
   "outputs": [],
   "source": [
    "# file_path = \"./random_data.txt\"\n",
    "# read_data = np.loadtxt(file_path)\n",
    "# plane_norms = LSH(read_data, 8)\n",
    "# query=[read_data[0]]\n",
    "# folder_name = \"bucket_files\"\n",
    "# result = semantic_query_lsh(query, plane_norms,folder_name)"
   ]
  },
  {
   "cell_type": "code",
   "execution_count": 2,
   "metadata": {},
   "outputs": [
    {
     "name": "stdout",
     "output_type": "stream",
     "text": [
      "The autoreload extension is already loaded. To reload it, use:\n",
      "  %reload_ext autoreload\n"
     ]
    }
   ],
   "source": [
    "%load_ext autoreload\n",
    "%autoreload 2\n",
    "\n",
    "\n",
    "from utils import *\n",
    "from Modules.LSH import*\n",
    "from api import *\n",
    "\n",
    "\n",
    "datafile_path=\"../DataBase/random_data_10000.txt\""
   ]
  },
  {
   "cell_type": "code",
   "execution_count": 15,
   "metadata": {},
   "outputs": [],
   "source": [
    "data_file='../DataBase/data.txt'\n",
    "Level_1_path='../DataBase/Level1'\n",
    "Level_2_path='../DataBase/Level2'\n",
    "\n",
    "data_api = DataApi(data_file)"
   ]
  },
  {
   "cell_type": "code",
   "execution_count": 16,
   "metadata": {},
   "outputs": [
    {
     "name": "stdout",
     "output_type": "stream",
     "text": [
      "Inserted 10000 records. Total records inserted: 10000\n",
      "Insertion complete.\n"
     ]
    }
   ],
   "source": [
    "data_api.generate_data_file(10000)"
   ]
  },
  {
   "cell_type": "code",
   "execution_count": 21,
   "metadata": {},
   "outputs": [],
   "source": [
    "\n",
    "# Test LSH_index\n",
    "# Read Data From File\n",
    "read_data = data_api.get_first_k_records(10000)\n",
    "\n",
    "\n",
    "# Layer(1)\n",
    "level_1_in=read_data\n",
    "# TODO: Save Planes to be used in query Search\n",
    "level_1_planes=LSH_index(data=level_1_in, nbits=8,index_path=Level_1_path)"
   ]
  },
  {
   "cell_type": "code",
   "execution_count": 38,
   "metadata": {},
   "outputs": [
    {
     "ename": "TypeError",
     "evalue": "unsupported operand type(s) for -: 'dict' and 'int'",
     "output_type": "error",
     "traceback": [
      "\u001b[1;31m---------------------------------------------------------------------------\u001b[0m",
      "\u001b[1;31mTypeError\u001b[0m                                 Traceback (most recent call last)",
      "\u001b[1;32md:\\Semantic-Search-Engine\\src\\pipeline.ipynb Cell 7\u001b[0m line \u001b[0;36m1\n\u001b[0;32m     <a href='vscode-notebook-cell:/d%3A/Semantic-Search-Engine/src/pipeline.ipynb#W4sZmlsZQ%3D%3D?line=15'>16</a>\u001b[0m read_data_2 \u001b[39m=\u001b[39m np\u001b[39m.\u001b[39marray(np\u001b[39m.\u001b[39mloadtxt(file_path,dtype\u001b[39m=\u001b[39m\u001b[39mint\u001b[39m))\n\u001b[0;32m     <a href='vscode-notebook-cell:/d%3A/Semantic-Search-Engine/src/pipeline.ipynb#W4sZmlsZQ%3D%3D?line=16'>17</a>\u001b[0m \u001b[39m# print(read_data_2)\u001b[39;00m\n\u001b[1;32m---> <a href='vscode-notebook-cell:/d%3A/Semantic-Search-Engine/src/pipeline.ipynb#W4sZmlsZQ%3D%3D?line=18'>19</a>\u001b[0m level_2_in\u001b[39m=\u001b[39mdata_api\u001b[39m.\u001b[39;49mget_multiple_records_by_ids([{\u001b[39m'\u001b[39;49m\u001b[39mid\u001b[39;49m\u001b[39m'\u001b[39;49m:\u001b[39m12\u001b[39;49m},{\u001b[39m'\u001b[39;49m\u001b[39mid\u001b[39;49m\u001b[39m'\u001b[39;49m:\u001b[39m110\u001b[39;49m},{\u001b[39m'\u001b[39;49m\u001b[39mid\u001b[39;49m\u001b[39m'\u001b[39;49m:\u001b[39m25\u001b[39;49m}])\n\u001b[0;32m     <a href='vscode-notebook-cell:/d%3A/Semantic-Search-Engine/src/pipeline.ipynb#W4sZmlsZQ%3D%3D?line=20'>21</a>\u001b[0m \u001b[39m# level_2_in = array_to_dictionary(values=vectors,keys=np.hstack(read_data_2))\u001b[39;00m\n\u001b[0;32m     <a href='vscode-notebook-cell:/d%3A/Semantic-Search-Engine/src/pipeline.ipynb#W4sZmlsZQ%3D%3D?line=21'>22</a>\u001b[0m \n\u001b[0;32m     <a href='vscode-notebook-cell:/d%3A/Semantic-Search-Engine/src/pipeline.ipynb#W4sZmlsZQ%3D%3D?line=22'>23</a>\u001b[0m \u001b[39m# # Apply LSH on this Bucket\u001b[39;00m\n\u001b[0;32m     <a href='vscode-notebook-cell:/d%3A/Semantic-Search-Engine/src/pipeline.ipynb#W4sZmlsZQ%3D%3D?line=23'>24</a>\u001b[0m level_2_planes[file_name[:\u001b[39m-\u001b[39m\u001b[39m4\u001b[39m]]\u001b[39m=\u001b[39mLSH_index(data\u001b[39m=\u001b[39mlevel_2_in, nbits\u001b[39m=\u001b[39m\u001b[39m3\u001b[39m,index_path\u001b[39m=\u001b[39mLevel_2_path \u001b[39m+\u001b[39m file_name[:\u001b[39m-\u001b[39m\u001b[39m4\u001b[39m])\n",
      "File \u001b[1;32md:\\Semantic-Search-Engine\\src\\api.py:38\u001b[0m, in \u001b[0;36mDataApi.get_multiple_records_by_ids\u001b[1;34m(self, record_ids)\u001b[0m\n\u001b[0;32m     37\u001b[0m \u001b[39mdef\u001b[39;00m \u001b[39mget_multiple_records_by_ids\u001b[39m(\u001b[39mself\u001b[39m,record_ids):\n\u001b[1;32m---> 38\u001b[0m   \u001b[39mreturn\u001b[39;00m \u001b[39mself\u001b[39;49m\u001b[39m.\u001b[39;49mdb\u001b[39m.\u001b[39;49mread_multiple_records_by_id(record_ids)\n",
      "File \u001b[1;32md:\\Semantic-Search-Engine\\src\\worst_case_implementation.py:60\u001b[0m, in \u001b[0;36mVecDBWorst.read_multiple_records_by_id\u001b[1;34m(self, records_id)\u001b[0m\n\u001b[0;32m     58\u001b[0m \u001b[39mwith\u001b[39;00m \u001b[39mopen\u001b[39m(\u001b[39mself\u001b[39m\u001b[39m.\u001b[39mfile_path, \u001b[39m\"\u001b[39m\u001b[39mrb\u001b[39m\u001b[39m\"\u001b[39m) \u001b[39mas\u001b[39;00m fin:\n\u001b[0;32m     59\u001b[0m     \u001b[39mfor\u001b[39;00m i \u001b[39min\u001b[39;00m \u001b[39mrange\u001b[39m(\u001b[39mlen\u001b[39m(records_id)):\n\u001b[1;32m---> 60\u001b[0m         offset \u001b[39m=\u001b[39m \u001b[39mself\u001b[39;49m\u001b[39m.\u001b[39;49mcalculate_offset(records_id[i])\n\u001b[0;32m     61\u001b[0m         fin\u001b[39m.\u001b[39mseek(offset)  \u001b[39m# Move the file pointer to the calculated offset\u001b[39;00m\n\u001b[0;32m     62\u001b[0m         data \u001b[39m=\u001b[39m fin\u001b[39m.\u001b[39mread(record_size)\n",
      "File \u001b[1;32md:\\Semantic-Search-Engine\\src\\worst_case_implementation.py:34\u001b[0m, in \u001b[0;36mVecDBWorst.calculate_offset\u001b[1;34m(self, record_id)\u001b[0m\n\u001b[0;32m     31\u001b[0m \u001b[39mdef\u001b[39;00m \u001b[39mcalculate_offset\u001b[39m(\u001b[39mself\u001b[39m, record_id: \u001b[39mint\u001b[39m) \u001b[39m-\u001b[39m\u001b[39m>\u001b[39m \u001b[39mint\u001b[39m:\n\u001b[0;32m     32\u001b[0m     \u001b[39m# Calculate the offset for a given record ID\u001b[39;00m\n\u001b[0;32m     33\u001b[0m     record_size \u001b[39m=\u001b[39m struct\u001b[39m.\u001b[39mcalcsize(\u001b[39m\"\u001b[39m\u001b[39mI70f\u001b[39m\u001b[39m\"\u001b[39m)\n\u001b[1;32m---> 34\u001b[0m     \u001b[39mreturn\u001b[39;00m (record_id \u001b[39m-\u001b[39;49m \u001b[39m1\u001b[39;49m) \u001b[39m*\u001b[39m record_size\n",
      "\u001b[1;31mTypeError\u001b[0m: unsupported operand type(s) for -: 'dict' and 'int'"
     ]
    }
   ],
   "source": [
    "# Layer(2)\n",
    "# OnEach Bucket Apply LSH\n",
    "\n",
    "# List all files in the directory\n",
    "files = os.listdir(Level_1_path)\n",
    "\n",
    "# TODO: Save Planes to be used in query Search\n",
    "level_2_planes={}\n",
    "\n",
    "# Loop over the files\n",
    "for file_name in files:\n",
    "    file_path = os.path.join(Level_1_path, file_name)\n",
    "    \n",
    "    if os.path.isfile(file_path):\n",
    "        # Read Data\n",
    "        read_data_2 = np.array(np.loadtxt(file_path,dtype=int))\n",
    "        # print(read_data_2)\n",
    "\n",
    "        level_2_in=data_api.get_multiple_records_by_ids([{'id':12},{'id':110},{'id':25}])\n",
    "        \n",
    "        # level_2_in = array_to_dictionary(values=vectors,keys=np.hstack(read_data_2))\n",
    "\n",
    "        # # Apply LSH on this Bucket\n",
    "        level_2_planes[file_name[:-4]]=LSH_index(data=level_2_in, nbits=3,index_path=Level_2_path + file_name[:-4])\n",
    "\n"
   ]
  },
  {
   "cell_type": "code",
   "execution_count": 47,
   "metadata": {},
   "outputs": [
    {
     "name": "stdout",
     "output_type": "stream",
     "text": [
      "[ 360  387  438  730  798 1189 1428 1494 1520 1969 2084 2167 2562 2913\n",
      " 3033 3106 3139 3216 3328 3333 3496 3560 3645 3648 4290 4427 4472 4475\n",
      " 4490 4680 4946 5018 5360 5371 5383 5483 5684 5712 5823 5834 6092 6219\n",
      " 6853 6948 6959 7192 7466 7529 7532 7569 7629 7697 7931 8175 8245 8402\n",
      " 8465 8726 8877 8903 9043 9207 9503 9577 9585 9999]\n",
      "00111010\n",
      "[1494 3333 3496 4472 4490 4680 5383 5712 5823 6092 7192 7532 9043 9207\n",
      " 9999]\n",
      "100\n"
     ]
    }
   ],
   "source": [
    "# Query\n",
    "read_data = np.loadtxt(\"../DataBase/random_data_100.txt\")\n",
    "query=read_data[-1]\n",
    "# query=[4.265131756195315038e-01 -3.634233447963347352e-01 -5.727147488800159447e-01 -7.895503180155466261e-01 6.500683674775042675e-02 5.593476973053070900e-01 6.388327642442854781e-01 -2.985175383557512330e-01 -1.382994893099875888e-01 9.317569691662936915e-01 7.289894725234782324e-01 -1.550965770298255997e-01 -3.654784599141871482e-01 3.325140471602898717e-01 -7.197539537383810249e-01 1.655932583487329524e-02 -9.086360572264773339e-01 9.658496076266809283e-01 1.319377465437243657e-02 8.794381582079235926e-03 8.633313358503216239e-01 1.003407189238088026e-01 -4.273563695309918753e-01 -4.739580387376252091e-01 2.432505698748375078e-01 4.272367334560942531e-01 5.110297293951218123e-01 -9.996339391821371656e-01 -6.480946775303824126e-01 -9.364631089977670797e-02 4.783165221815750545e-01 6.085112711557760790e-02 5.194922668374988284e-01 -2.785310015581767829e-01 -7.577244733814347821e-01 -6.828794557186810277e-01 7.843931858784025657e-01 8.938168055776762877e-02 9.066666790120190278e-01 -1.949296826777431324e-01 -7.591120138925231409e-01 -3.221909966959626281e-01 -8.070608847804512376e-01 4.046889559050830254e-01 -4.875326933669412721e-01 -6.401902021205316817e-01 -1.092046738287200114e-01 9.174766837567116529e-01 -9.396653023096908086e-01 -2.129941874678904501e-01 -6.572310717222820120e-01 9.515293126073463004e-01 5.913234131172966368e-01 -5.104761612619461708e-01 7.980547335703171985e-01 7.772538116011418197e-02 8.950184960834999259e-01 6.231555065250888870e-01 5.405641558642226840e-02 -2.127102107187497371e-01 -1.629095118265668773e-01 -2.542383921900981392e-02 2.804514881985611385e-01 -4.680239177596294819e-01 -9.018749810093429353e-02 -7.453430215335024034e-01 6.302934068023158254e-02 6.934312775943236584e-01 1.561384343912894934e-01 3.161865774700662879e-01]\n",
    "# Layer (1)\n",
    "bucket = semantic_query_lsh(query=query,plane_norms=level_1_planes,index_path=\"../DataBase/Level1\")\n",
    "print(bucket)\n",
    "\n",
    "# Layer(2)\n",
    "bucket = semantic_query_lsh(query=query,plane_norms=level_2_planes[bucket],index_path=\"../DataBase/Level2/\"+bucket)\n",
    "print(bucket)\n"
   ]
  },
  {
   "cell_type": "code",
   "execution_count": 48,
   "metadata": {},
   "outputs": [
    {
     "name": "stdout",
     "output_type": "stream",
     "text": [
      "[  62  347  365  449  625  732  911  950 1335 1847 1890 1974 1987 2469\n",
      " 2713 2866 2920 2932 3150 3169 3173 3211 3313 3538 3550 3571 3574 3968\n",
      " 4487 4534 5501 5649 5741 5769 5865 6335 6442 6517 6525 6737 6799 6831\n",
      " 7067 7179 7262 7514 7604 7712 7742 7901 7914 7942 8077 8278 8282 8380\n",
      " 8494 8517 8538 8562 8593 8763 8919 9090 9102 9218 9464 9551 9564 9625\n",
      " 9683 9719 9953]\n",
      "01111010\n",
      "9953\n",
      "010\n"
     ]
    }
   ],
   "source": [
    "# Query\n",
    "query=read_data[54]\n",
    "# print(query)\n",
    "# Layer (1)\n",
    "bucket = semantic_query_lsh(query=query,plane_norms=level_1_planes,index_path=\"../DataBase/Level1\")\n",
    "print(bucket)\n",
    "\n",
    "# Layer(2)\n",
    "bucket = semantic_query_lsh(query=query,plane_norms=level_2_planes[bucket],index_path=\"../DataBase/Level2/\"+bucket)\n",
    "print(bucket)"
   ]
  }
 ],
 "metadata": {
  "kernelspec": {
   "display_name": "Python 3",
   "language": "python",
   "name": "python3"
  },
  "language_info": {
   "codemirror_mode": {
    "name": "ipython",
    "version": 3
   },
   "file_extension": ".py",
   "mimetype": "text/x-python",
   "name": "python",
   "nbconvert_exporter": "python",
   "pygments_lexer": "ipython3",
   "version": "3.10.9"
  }
 },
 "nbformat": 4,
 "nbformat_minor": 2
}
